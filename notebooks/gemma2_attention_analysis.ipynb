{
 "cells": [
  {
   "cell_type": "markdown",
   "metadata": {},
   "source": [
    "# Gemma2-27B Attention Analysis\n",
    "\n",
    "This notebook analyzes how instruction tuning modifies attention patterns for PC and semantic vectors.\n",
    "\n",
    "**Key Analyses:**\n",
    "1. **QK Affinity**: Raw attention logits (before softmax) reveal semantic affinities\n",
    "2. **VO Decomposition**: What semantic content flows through when attending to a vector\n",
    "3. **Base vs Instruct Comparison**: How instruction tuning changes routing\n",
    "\n",
    "**Approach:**\n",
    "- Compute QK affinity matrices for PC and semantic vectors\n",
    "- Compute VO decomposition (value-output transformation)\n",
    "- Analyze z-scores relative to random baseline\n",
    "- Identify layers and patterns where instruction tuning has strongest effect"
   ]
  },
  {
   "cell_type": "code",
   "execution_count": 2,
   "metadata": {},
   "outputs": [],
   "source": [
    "import torch\n",
    "import numpy as np\n",
    "import pandas as pd\n",
    "import matplotlib.pyplot as plt\n",
    "import seaborn as sns\n",
    "from pathlib import Path\n",
    "from tqdm import tqdm\n",
    "from transformers import AutoModelForCausalLM, AutoConfig\n",
    "from collections import OrderedDict\n",
    "\n",
    "from chatspace.analysis import (\n",
    "    load_pca_data,\n",
    "    extract_pc_components,\n",
    "    load_individual_role_vectors,\n",
    "    load_individual_trait_vectors,\n",
    "    normalize_vector,\n",
    "    compute_qk_affinity_matrix,\n",
    "    compute_vo_decomposition,\n",
    "    compute_z_score_matrices,\n",
    "    get_top_interactions,\n",
    "    analyze_pc_pattern\n",
    ")\n",
    "\n",
    "%matplotlib inline\n",
    "sns.set_style('whitegrid')"
   ]
  },
  {
   "cell_type": "markdown",
   "metadata": {},
   "source": [
    "## 1. Load Models and Prepare Vectors"
   ]
  },
  {
   "cell_type": "code",
   "execution_count": 3,
   "metadata": {},
   "outputs": [
    {
     "name": "stderr",
     "output_type": "stream",
     "text": [
      "`torch_dtype` is deprecated! Use `dtype` instead!\n"
     ]
    },
    {
     "name": "stdout",
     "output_type": "stream",
     "text": [
      "Loading models...\n"
     ]
    },
    {
     "data": {
      "application/vnd.jupyter.widget-view+json": {
       "model_id": "46b1d2a2c0094b58b570a67b01a825c7",
       "version_major": 2,
       "version_minor": 0
      },
      "text/plain": [
       "Loading checkpoint shards:   0%|          | 0/24 [00:00<?, ?it/s]"
      ]
     },
     "metadata": {},
     "output_type": "display_data"
    },
    {
     "data": {
      "application/vnd.jupyter.widget-view+json": {
       "model_id": "71aeeb5d95394661ba2dcdca9c225aa3",
       "version_major": 2,
       "version_minor": 0
      },
      "text/plain": [
       "Loading checkpoint shards:   0%|          | 0/12 [00:00<?, ?it/s]"
      ]
     },
     "metadata": {},
     "output_type": "display_data"
    },
    {
     "name": "stdout",
     "output_type": "stream",
     "text": [
      "\u2713 Models loaded\n"
     ]
    }
   ],
   "source": [
    "# Load models\n",
    "base_model_id = \"google/gemma-2-27b\"\n",
    "instruct_model_id = \"google/gemma-2-27b-it\"\n",
    "\n",
    "print(\"Loading models...\")\n",
    "config = AutoConfig.from_pretrained(base_model_id)\n",
    "base_model = AutoModelForCausalLM.from_pretrained(base_model_id, torch_dtype=torch.bfloat16, device_map=\"cpu\")\n",
    "instruct_model = AutoModelForCausalLM.from_pretrained(instruct_model_id, torch_dtype=torch.bfloat16, device_map=\"cpu\")\n",
    "print(\"\u2713 Models loaded\")"
   ]
  },
  {
   "cell_type": "code",
   "execution_count": 4,
   "metadata": {},
   "outputs": [
    {
     "name": "stdout",
     "output_type": "stream",
     "text": [
      "Loading role and trait vectors at layer 22...\n",
      "  \u2713 Loaded 10 role difference vectors\n",
      "  \u2713 Loaded 10 trait contrast vectors\n",
      "\n",
      "\u2713 Prepared 46 test vectors\n",
      "  PC vectors: 4\n",
      "  Role vectors: 5\n",
      "  Trait vectors: 5\n",
      "  Random vectors: 32\n"
     ]
    },
    {
     "name": "stderr",
     "output_type": "stream",
     "text": [
      "/root/chatspace/.venv/lib/python3.11/site-packages/sklearn/base.py:442: InconsistentVersionWarning: Trying to unpickle estimator PCA from version 1.7.0 when using version 1.7.2. This might lead to breaking code or invalid results. Use at your own risk. For more info please refer to:\n",
      "https://scikit-learn.org/stable/model_persistence.html#security-maintainability-limitations\n",
      "  warnings.warn(\n",
      "/root/chatspace/.venv/lib/python3.11/site-packages/sklearn/base.py:442: InconsistentVersionWarning: Trying to unpickle estimator StandardScaler from version 1.7.0 when using version 1.7.2. This might lead to breaking code or invalid results. Use at your own risk. For more info please refer to:\n",
      "https://scikit-learn.org/stable/model_persistence.html#security-maintainability-limitations\n",
      "  warnings.warn(\n"
     ]
    }
   ],
   "source": [
    "# Load PC vectors\n",
    "persona_data_root = Path(\"/workspace/persona-data\")\n",
    "roles_pca_dir = persona_data_root / \"gemma-2-27b\" / \"roles_240\" / \"pca\"\n",
    "traits_pca_dir = persona_data_root / \"gemma-2-27b\" / \"traits_240\" / \"pca\"\n",
    "\n",
    "pca_data, _ = load_pca_data(roles_pca_dir)\n",
    "pcs, variance_explained = extract_pc_components(pca_data, n_components=3)\n",
    "pca_layer = pca_data['layer']\n",
    "\n",
    "# Load individual role and trait vectors at the same layer as PCA\n",
    "roles_vectors_dir = persona_data_root / \"gemma-2-27b\" / \"roles_240\" / \"vectors\"\n",
    "traits_vectors_dir = persona_data_root / \"gemma-2-27b\" / \"traits_240\" / \"vectors\"\n",
    "\n",
    "print(f\"Loading role and trait vectors at layer {pca_layer}...\")\n",
    "role_vectors = load_individual_role_vectors(roles_vectors_dir, pca_layer, max_roles=10)\n",
    "trait_vectors = load_individual_trait_vectors(traits_vectors_dir, pca_layer, max_traits=10)\n",
    "\n",
    "print(f\"  \u2713 Loaded {len(role_vectors)} role difference vectors\")\n",
    "print(f\"  \u2713 Loaded {len(trait_vectors)} trait contrast vectors\")\n",
    "\n",
    "# Build test vectors\n",
    "test_vectors = OrderedDict()\n",
    "\n",
    "# Add PC vectors\n",
    "test_vectors['PC1'] = normalize_vector(pcs[0])\n",
    "test_vectors['PC2'] = normalize_vector(pcs[1])\n",
    "test_vectors['PC3'] = normalize_vector(pcs[2])\n",
    "test_vectors['-PC1'] = normalize_vector(-pcs[0].float())\n",
    "\n",
    "# Add sample role vectors\n",
    "for name, vec in list(role_vectors.items())[:5]:\n",
    "    test_vectors[f'role:{name}'] = vec\n",
    "\n",
    "# Add sample trait vectors\n",
    "for name, vec in list(trait_vectors.items())[:5]:\n",
    "    test_vectors[f'trait:{name}'] = vec\n",
    "\n",
    "# Add random baseline\n",
    "torch.manual_seed(42)\n",
    "for i in range(32):\n",
    "    rand_vec = torch.randn(config.hidden_size, dtype=torch.float32)\n",
    "    test_vectors[f'Random{i+1}'] = normalize_vector(rand_vec)\n",
    "\n",
    "vector_names = list(test_vectors.keys())\n",
    "vectors_tensor = torch.stack([test_vectors[name] for name in vector_names])\n",
    "\n",
    "print(f\"\\n\u2713 Prepared {len(vector_names)} test vectors\")\n",
    "print(f\"  PC vectors: {len([n for n in vector_names if 'PC' in n])}\")\n",
    "print(f\"  Role vectors: {len([n for n in vector_names if 'role:' in n])}\")\n",
    "print(f\"  Trait vectors: {len([n for n in vector_names if 'trait:' in n])}\")\n",
    "print(f\"  Random vectors: {len([n for n in vector_names if 'Random' in n])}\")"
   ]
  },
  {
   "cell_type": "markdown",
   "metadata": {},
   "source": [
    "## 2. Compute QK Affinity Matrices\n",
    "\n",
    "QK affinities reveal which vectors semantically \"attend to\" each other (before softmax)."
   ]
  },
  {
   "cell_type": "code",
   "execution_count": 5,
   "metadata": {},
   "outputs": [
    {
     "name": "stdout",
     "output_type": "stream",
     "text": [
      "Computing QK affinities for layers [17, 18, 19, 20, 21, 22, 23, 24, 25, 26]...\n"
     ]
    },
    {
     "name": "stderr",
     "output_type": "stream",
     "text": [
      "100%|\u2588\u2588\u2588\u2588\u2588\u2588\u2588\u2588\u2588\u2588| 10/10 [00:01<00:00,  5.66it/s]"
     ]
    },
    {
     "name": "stdout",
     "output_type": "stream",
     "text": [
      "\n",
      "\u2713 QK affinity computation complete\n",
      "  Shape: (10, 46, 46)\n"
     ]
    },
    {
     "name": "stderr",
     "output_type": "stream",
     "text": [
      "\n"
     ]
    }
   ],
   "source": [
    "# Compute QK affinities for target layers\n",
    "target_layers = list(range(17, 27))\n",
    "n_vectors = len(vector_names)\n",
    "\n",
    "qk_base = np.zeros((len(target_layers), n_vectors, n_vectors))\n",
    "qk_instruct = np.zeros((len(target_layers), n_vectors, n_vectors))\n",
    "\n",
    "print(f\"Computing QK affinities for layers {target_layers}...\")\n",
    "\n",
    "with torch.inference_mode():\n",
    "    for i, layer_idx in enumerate(tqdm(target_layers)):\n",
    "        qk_b = compute_qk_affinity_matrix(vectors_tensor, layer_idx, base_model)\n",
    "        qk_i = compute_qk_affinity_matrix(vectors_tensor, layer_idx, instruct_model)\n",
    "        qk_base[i] = qk_b.cpu().numpy()\n",
    "        qk_instruct[i] = qk_i.cpu().numpy()\n",
    "\n",
    "qk_delta = qk_instruct - qk_base\n",
    "print(f\"\\n\u2713 QK affinity computation complete\")\n",
    "print(f\"  Shape: {qk_base.shape}\")"
   ]
  },
  {
   "cell_type": "code",
   "execution_count": 6,
   "metadata": {},
   "outputs": [
    {
     "name": "stdout",
     "output_type": "stream",
     "text": [
      "\u2713 Z-score normalization complete\n",
      "\n",
      "Example z-scores at layer 18 (index 1):\n",
      "  PC1\u2192PC1:  -1.35\u03c3\n",
      "  PC1\u2192-PC1: 1.34\u03c3\n"
     ]
    }
   ],
   "source": [
    "# Compute z-scores relative to random baseline\n",
    "random_indices = [vector_names.index(n) for n in vector_names if 'Random' in n]\n",
    "qk_delta_z = compute_z_score_matrices(qk_delta, random_indices)\n",
    "\n",
    "print(f\"\u2713 Z-score normalization complete\")\n",
    "print(f\"\\nExample z-scores at layer 18 (index 1):\")\n",
    "if 'PC1' in vector_names:\n",
    "    pc1_idx = vector_names.index('PC1')\n",
    "    print(f\"  PC1\u2192PC1:  {qk_delta_z[1, pc1_idx, pc1_idx]:.2f}\u03c3\")\n",
    "    print(f\"  PC1\u2192-PC1: {qk_delta_z[1, pc1_idx, vector_names.index('-PC1')]:.2f}\u03c3\")"
   ]
  },
  {
   "cell_type": "code",
   "execution_count": 7,
   "metadata": {},
   "outputs": [
    {
     "data": {
      "image/png": "[encoded data removed]",
      "text/plain": [
       "<Figure size 2000x400 with 20 Axes>"
      ]
     },
     "metadata": {},
     "output_type": "display_data"
    }
   ],
   "source": [
    "# Visualize QK affinity changes\n",
    "fig, axes = plt.subplots(1, len(target_layers), figsize=(20, 4))\n",
    "\n",
    "for i, layer_idx in enumerate(target_layers):\n",
    "    # Show only PC vectors for clarity\n",
    "    pc_indices = [vector_names.index(n) for n in vector_names if 'PC' in n]\n",
    "    pc_names = [vector_names[j] for j in pc_indices]\n",
    "    \n",
    "    matrix = qk_delta_z[i][np.ix_(pc_indices, pc_indices)]\n",
    "    \n",
    "    sns.heatmap(matrix, ax=axes[i], cmap='RdBu_r', center=0, \n",
    "                xticklabels=pc_names, yticklabels=pc_names,\n",
    "                cbar_kws={'label': 'Z-score'})\n",
    "    axes[i].set_title(f'Layer {layer_idx}\\nQK Delta (Z-scores)')\n",
    "\n",
    "plt.tight_layout()\n",
    "plt.show()"
   ]
  },
  {
   "cell_type": "markdown",
   "metadata": {},
   "source": [
    "## 3. Compute VO Decomposition\n",
    "\n",
    "VO decomposition reveals what semantic content flows through when attending to a vector."
   ]
  },
  {
   "cell_type": "code",
   "execution_count": 8,
   "metadata": {},
   "outputs": [
    {
     "name": "stdout",
     "output_type": "stream",
     "text": [
      "Computing VO decomposition for layers [17, 18, 19, 20, 21, 22, 23, 24, 25, 26]...\n"
     ]
    },
    {
     "name": "stderr",
     "output_type": "stream",
     "text": [
      "100%|\u2588\u2588\u2588\u2588\u2588\u2588\u2588\u2588\u2588\u2588| 10/10 [00:01<00:00,  5.46it/s]"
     ]
    },
    {
     "name": "stdout",
     "output_type": "stream",
     "text": [
      "\n",
      "\u2713 VO decomposition complete\n",
      "  Shape: (10, 46, 46)\n"
     ]
    },
    {
     "name": "stderr",
     "output_type": "stream",
     "text": [
      "\n"
     ]
    }
   ],
   "source": [
    "# Compute VO decomposition\n",
    "vo_base = np.zeros((len(target_layers), n_vectors, n_vectors))\n",
    "vo_instruct = np.zeros((len(target_layers), n_vectors, n_vectors))\n",
    "\n",
    "print(f\"Computing VO decomposition for layers {target_layers}...\")\n",
    "\n",
    "with torch.inference_mode():\n",
    "    for i, layer_idx in enumerate(tqdm(target_layers)):\n",
    "        vo_b = compute_vo_decomposition(vectors_tensor, vectors_tensor, layer_idx, base_model)\n",
    "        vo_i = compute_vo_decomposition(vectors_tensor, vectors_tensor, layer_idx, instruct_model)\n",
    "        vo_base[i] = vo_b.cpu().numpy()\n",
    "        vo_instruct[i] = vo_i.cpu().numpy()\n",
    "\n",
    "vo_delta = vo_instruct - vo_base\n",
    "vo_delta_z = compute_z_score_matrices(vo_delta, random_indices)\n",
    "\n",
    "print(f\"\\n\u2713 VO decomposition complete\")\n",
    "print(f\"  Shape: {vo_base.shape}\")"
   ]
  },
  {
   "cell_type": "code",
   "execution_count": 9,
   "metadata": {},
   "outputs": [
    {
     "name": "stdout",
     "output_type": "stream",
     "text": [
      "\n",
      "================================================================================\n",
      "TOP VO DECOMPOSITION CHANGES (Layer 18)\n",
      "================================================================================\n",
      "\n",
      "Top 10 VO changes (what semantic content flows when attending):\n",
      " rank               query                 key     value\n",
      "    1                -PC1          role:actor 45.263675\n",
      "    2      trait:abstract          role:actor 40.486890\n",
      "    3      trait:abstract      role:absurdist 36.789519\n",
      "    4             Random6          role:actor 36.014234\n",
      "    5      trait:abstract       trait:acerbic 33.732403\n",
      "    6                -PC1 trait:accommodating 33.642996\n",
      "    7 trait:accommodating     role:accountant 33.328903\n",
      "    8             Random6       trait:acerbic 32.699417\n",
      "    9      trait:abstract       role:activist 32.618394\n",
      "   10      role:absurdist    trait:accessible 31.749510\n"
     ]
    }
   ],
   "source": [
    "# Analyze top VO patterns\n",
    "print(\"\\n\" + \"=\"*80)\n",
    "print(\"TOP VO DECOMPOSITION CHANGES (Layer 18)\")\n",
    "print(\"=\"*80)\n",
    "\n",
    "layer_18_idx = target_layers.index(18)\n",
    "top_vo = get_top_interactions(vo_delta_z, vector_names, layer_18_idx, top_k=10, exclude_self=True)\n",
    "print(\"\\nTop 10 VO changes (what semantic content flows when attending):\")\n",
    "print(top_vo.to_string(index=False))"
   ]
  },
  {
   "cell_type": "markdown",
   "metadata": {},
   "source": [
    "## 4. PC1-Specific Analysis\n",
    "\n",
    "Focus on how PC1 attention patterns change with instruction tuning."
   ]
  },
  {
   "cell_type": "code",
   "execution_count": 10,
   "metadata": {},
   "outputs": [
    {
     "name": "stdout",
     "output_type": "stream",
     "text": [
      "\n",
      "================================================================================\n",
      "PC1 ATTENTION PATTERNS (Layer 18)\n",
      "================================================================================\n",
      "\n",
      "QK Affinity (what PC1 attends to):\n",
      " rank   target    value\n",
      "    1 Random31 2.032883\n",
      "    2  Random2 1.648422\n",
      "    3  Random9 1.643636\n",
      "    4     -PC1 1.344887\n",
      "    5 Random10 1.233284\n",
      "    6 Random20 0.926627\n",
      "    7  Random3 0.416096\n",
      "    8 Random21 0.363939\n",
      "    9 Random11 0.324945\n",
      "   10      PC3 0.309499\n",
      "\n",
      "VO Decomposition (what flows through when attending to PC1):\n",
      " rank           target     value\n",
      "    1 trait:accessible 15.571672\n",
      "    2 trait:absolutist  7.233979\n",
      "    3              PC1  5.765361\n",
      "    4         Random21  4.025174\n",
      "    5          Random4  3.943728\n",
      "    6         Random20  2.899259\n",
      "    7         Random24  2.393616\n",
      "    8         Random28  2.237729\n",
      "    9          Random5  1.804160\n",
      "   10          Random3  1.685657\n"
     ]
    }
   ],
   "source": [
    "# Analyze PC1 patterns across layers\n",
    "if 'PC1' in vector_names:\n",
    "    pc1_qk = analyze_pc_pattern(qk_delta_z, vector_names, 'PC1', layer_18_idx, top_k=10)\n",
    "    pc1_vo = analyze_pc_pattern(vo_delta_z, vector_names, 'PC1', layer_18_idx, top_k=10)\n",
    "    \n",
    "    print(\"\\n\" + \"=\"*80)\n",
    "    print(\"PC1 ATTENTION PATTERNS (Layer 18)\")\n",
    "    print(\"=\"*80)\n",
    "    \n",
    "    print(\"\\nQK Affinity (what PC1 attends to):\")\n",
    "    print(pc1_qk.to_string(index=False))\n",
    "    \n",
    "    print(\"\\nVO Decomposition (what flows through when attending to PC1):\")\n",
    "    print(pc1_vo.to_string(index=False))"
   ]
  },
  {
   "cell_type": "markdown",
   "id": "cell-pc-layers-intro",
   "metadata": {},
   "source": [
    "## 5. PC Attention Patterns Across All Layers\n",
    "\n",
    "Analyze how PCs attend to themselves and their opposites across all layers, normalized by random baseline."
   ]
  },
  {
   "cell_type": "code",
   "execution_count": 11,
   "id": "cell-pc-layers-qk",
   "metadata": {},
   "outputs": [
    {
     "name": "stdout",
     "output_type": "stream",
     "text": [
      "Computing PC attention patterns across all layers...\n",
      "\u2713 Prepared 26 vectors (6 PCs + 20 random)\n",
      "  Will analyze 46 layers...\n"
     ]
    }
   ],
   "source": [
    "# Compute QK affinity and VO decomposition for PCs across ALL layers\n",
    "print(\"Computing PC attention patterns across all layers...\")\n",
    "\n",
    "all_layers = list(range(config.num_hidden_layers))  # All 46 layers\n",
    "n_random = 20  # Use 20 random vectors for robust baseline\n",
    "\n",
    "# Build test vectors: PCs + random baseline\n",
    "test_vecs_all_layers = OrderedDict()\n",
    "test_vecs_all_layers[\"PC1\"] = normalize_vector(pcs[0])\n",
    "test_vecs_all_layers[\"PC2\"] = normalize_vector(pcs[1])\n",
    "test_vecs_all_layers[\"PC3\"] = normalize_vector(pcs[2])\n",
    "test_vecs_all_layers[\"-PC1\"] = normalize_vector(-pcs[0].float())\n",
    "test_vecs_all_layers[\"-PC2\"] = normalize_vector(-pcs[1].float())\n",
    "test_vecs_all_layers[\"-PC3\"] = normalize_vector(-pcs[2].float())\n",
    "\n",
    "# Add 20 random vectors\n",
    "torch.manual_seed(42)\n",
    "for i in range(n_random):\n",
    "    rand_vec = torch.randn(config.hidden_size, dtype=torch.float32)\n",
    "    test_vecs_all_layers[f\"Random{i+1}\"] = normalize_vector(rand_vec)\n",
    "\n",
    "vec_names_all = list(test_vecs_all_layers.keys())\n",
    "vecs_tensor_all = torch.stack([test_vecs_all_layers[name] for name in vec_names_all])\n",
    "\n",
    "print(f\"\u2713 Prepared {len(vec_names_all)} vectors (6 PCs + {n_random} random)\")\n",
    "print(f\"  Will analyze {len(all_layers)} layers...\")"
   ]
  },
  {
   "cell_type": "code",
   "execution_count": 12,
   "id": "cell-pc-layers-compute",
   "metadata": {},
   "outputs": [
    {
     "name": "stderr",
     "output_type": "stream",
     "text": [
      "Computing attention patterns: 100%|\u2588\u2588\u2588\u2588\u2588\u2588\u2588\u2588\u2588\u2588| 46/46 [00:15<00:00,  3.02it/s]"
     ]
    },
    {
     "name": "stdout",
     "output_type": "stream",
     "text": [
      "\n",
      "\u2713 Computed QK and VO for 46 layers\n"
     ]
    },
    {
     "name": "stderr",
     "output_type": "stream",
     "text": [
      "\n"
     ]
    }
   ],
   "source": [
    "# Compute QK and VO for all layers\n",
    "n_vecs = len(vec_names_all)\n",
    "qk_base_all = np.zeros((len(all_layers), n_vecs, n_vecs))\n",
    "qk_inst_all = np.zeros((len(all_layers), n_vecs, n_vecs))\n",
    "vo_base_all = np.zeros((len(all_layers), n_vecs, n_vecs))\n",
    "vo_inst_all = np.zeros((len(all_layers), n_vecs, n_vecs))\n",
    "\n",
    "with torch.inference_mode():\n",
    "    for i, layer_idx in enumerate(tqdm(all_layers, desc=\"Computing attention patterns\")):\n",
    "        # QK affinity\n",
    "        qk_b = compute_qk_affinity_matrix(vecs_tensor_all, layer_idx, base_model)\n",
    "        qk_i = compute_qk_affinity_matrix(vecs_tensor_all, layer_idx, instruct_model)\n",
    "        qk_base_all[i] = qk_b.cpu().numpy()\n",
    "        qk_inst_all[i] = qk_i.cpu().numpy()\n",
    "        \n",
    "        # VO decomposition\n",
    "        vo_b = compute_vo_decomposition(vecs_tensor_all, vecs_tensor_all, layer_idx, base_model)\n",
    "        vo_i = compute_vo_decomposition(vecs_tensor_all, vecs_tensor_all, layer_idx, instruct_model)\n",
    "        vo_base_all[i] = vo_b.cpu().numpy()\n",
    "        vo_inst_all[i] = vo_i.cpu().numpy()\n",
    "\n",
    "qk_delta_all = qk_inst_all - qk_base_all\n",
    "vo_delta_all = vo_inst_all - vo_base_all\n",
    "\n",
    "print(f\"\\n\u2713 Computed QK and VO for {len(all_layers)} layers\")"
   ]
  },
  {
   "cell_type": "code",
   "execution_count": null,
   "id": "cell-pc-layers-analysis",
   "metadata": {},
   "outputs": [],
   "source": [
    "# Extract self-attention and opposite-attention for PCs\n",
    "pc_pairs = [(\"PC1\", \"-PC1\"), (\"PC2\", \"-PC2\"), (\"PC3\", \"-PC3\")]\n",
    "random_indices_all = [vec_names_all.index(n) for n in vec_names_all if \"Random\" in n]\n",
    "\n",
    "# For each model (base and instruct), compute PC patterns\n",
    "qk_results_base = {}\n",
    "qk_results_inst = {}\n",
    "vo_results_base = {}\n",
    "vo_results_inst = {}\n",
    "\n",
    "for pc_pos, pc_neg in pc_pairs:\n",
    "    idx_pos = vec_names_all.index(pc_pos)\n",
    "    idx_neg = vec_names_all.index(pc_neg)\n",
    "    \n",
    "    # Base model: QK and VO\n",
    "    qk_results_base[pc_pos] = {\n",
    "        \"self\": qk_base_all[:, idx_pos, idx_pos],\n",
    "        \"opposite\": qk_base_all[:, idx_pos, idx_neg]\n",
    "    }\n",
    "    vo_results_base[pc_pos] = {\n",
    "        \"self\": vo_base_all[:, idx_pos, idx_pos],\n",
    "        \"opposite\": vo_base_all[:, idx_pos, idx_neg]\n",
    "    }\n",
    "    \n",
    "    # Instruct model: QK and VO\n",
    "    qk_results_inst[pc_pos] = {\n",
    "        \"self\": qk_inst_all[:, idx_pos, idx_pos],\n",
    "        \"opposite\": qk_inst_all[:, idx_pos, idx_neg]\n",
    "    }\n",
    "    vo_results_inst[pc_pos] = {\n",
    "        \"self\": vo_inst_all[:, idx_pos, idx_pos],\n",
    "        \"opposite\": vo_inst_all[:, idx_pos, idx_neg]\n",
    "    }\n",
    "\n",
    "# Compute random baselines for EACH model separately\n",
    "print(\"Computing random baselines for base and instruct models...\")\n",
    "\n",
    "# Base model random baseline\n",
    "qk_random_base = []\n",
    "vo_random_base = []\n",
    "for rand_idx in random_indices_all:\n",
    "    qk_random_base.append(qk_base_all[:, rand_idx, rand_idx])\n",
    "    vo_random_base.append(vo_base_all[:, rand_idx, rand_idx])\n",
    "qk_random_base = np.array(qk_random_base)\n",
    "vo_random_base = np.array(vo_random_base)\n",
    "qk_base_mean = qk_random_base.mean(axis=0)\n",
    "qk_base_std = qk_random_base.std(axis=0)\n",
    "vo_base_mean = vo_random_base.mean(axis=0)\n",
    "vo_base_std = vo_random_base.std(axis=0)\n",
    "\n",
    "# Instruct model random baseline\n",
    "qk_random_inst = []\n",
    "vo_random_inst = []\n",
    "for rand_idx in random_indices_all:\n",
    "    qk_random_inst.append(qk_inst_all[:, rand_idx, rand_idx])\n",
    "    vo_random_inst.append(vo_inst_all[:, rand_idx, rand_idx])\n",
    "qk_random_inst = np.array(qk_random_inst)\n",
    "vo_random_inst = np.array(vo_random_inst)\n",
    "qk_inst_mean = qk_random_inst.mean(axis=0)\n",
    "qk_inst_std = qk_random_inst.std(axis=0)\n",
    "vo_inst_mean = vo_random_inst.mean(axis=0)\n",
    "vo_inst_std = vo_random_inst.std(axis=0)\n",
    "\n",
    "# Convert to z-scores (each model normalized by its own random baseline)\n",
    "qk_zscores_base = {}\n",
    "qk_zscores_inst = {}\n",
    "vo_zscores_base = {}\n",
    "vo_zscores_inst = {}\n",
    "\n",
    "for pc in [\"PC1\", \"PC2\", \"PC3\"]:\n",
    "    qk_zscores_base[pc] = {\n",
    "        \"self\": (qk_results_base[pc][\"self\"] - qk_base_mean) / (qk_base_std + 1e-8),\n",
    "        \"opposite\": (qk_results_base[pc][\"opposite\"] - qk_base_mean) / (qk_base_std + 1e-8)\n",
    "    }\n",
    "    qk_zscores_inst[pc] = {\n",
    "        \"self\": (qk_results_inst[pc][\"self\"] - qk_inst_mean) / (qk_inst_std + 1e-8),\n",
    "        \"opposite\": (qk_results_inst[pc][\"opposite\"] - qk_inst_mean) / (qk_inst_std + 1e-8)\n",
    "    }\n",
    "    vo_zscores_base[pc] = {\n",
    "        \"self\": (vo_results_base[pc][\"self\"] - vo_base_mean) / (vo_base_std + 1e-8),\n",
    "        \"opposite\": (vo_results_base[pc][\"opposite\"] - vo_base_mean) / (vo_base_std + 1e-8)\n",
    "    }\n",
    "    vo_zscores_inst[pc] = {\n",
    "        \"self\": (vo_results_inst[pc][\"self\"] - vo_inst_mean) / (vo_inst_std + 1e-8),\n",
    "        \"opposite\": (vo_results_inst[pc][\"opposite\"] - vo_inst_mean) / (vo_inst_std + 1e-8)\n",
    "    }\n",
    "\n",
    "print(f\"\u2713 Computed z-scores for base and instruct models\")\n",
    "print(f\"  Each normalized by {len(random_indices_all)} random vectors through that model\")"
   ]
  },
  {
   "cell_type": "code",
   "execution_count": null,
   "id": "cell-pc-layers-viz",
   "metadata": {},
   "outputs": [],
   "source": [
    "# Visualize base vs instruct attention patterns\n",
    "fig, axes = plt.subplots(2, 3, figsize=(20, 10))\n",
    "\n",
    "# QK Affinity plots (top row)\n",
    "for i, pc in enumerate([\"PC1\", \"PC2\", \"PC3\"]):\n",
    "    ax = axes[0, i]\n",
    "    \n",
    "    # Plot base model\n",
    "    ax.plot(all_layers, qk_zscores_base[pc][\"self\"], \"o-\", \n",
    "            label=f\"Base: {pc}\u2192{pc}\", linewidth=2, alpha=0.7, color=\"C0\")\n",
    "    ax.plot(all_layers, qk_zscores_base[pc][\"opposite\"], \"s--\", \n",
    "            label=f\"Base: {pc}\u2192-{pc}\", linewidth=1.5, alpha=0.7, color=\"C0\")\n",
    "    \n",
    "    # Plot instruct model\n",
    "    ax.plot(all_layers, qk_zscores_inst[pc][\"self\"], \"o-\", \n",
    "            label=f\"Instruct: {pc}\u2192{pc}\", linewidth=2, alpha=0.7, color=\"C1\")\n",
    "    ax.plot(all_layers, qk_zscores_inst[pc][\"opposite\"], \"s--\", \n",
    "            label=f\"Instruct: {pc}\u2192-{pc}\", linewidth=1.5, alpha=0.7, color=\"C1\")\n",
    "    \n",
    "    ax.axhline(0, color=\"gray\", linestyle=\":\", alpha=0.5, label=\"Random baseline\")\n",
    "    ax.set_xlabel(\"Layer\", fontsize=11)\n",
    "    ax.set_ylabel(\"Z-score (vs random)\", fontsize=11)\n",
    "    ax.set_title(f\"QK Affinity: {pc} Attention (Base vs Instruct)\", fontsize=12, fontweight=\"bold\")\n",
    "    ax.legend(fontsize=9, loc=\"best\")\n",
    "    ax.grid(True, alpha=0.3)\n",
    "\n",
    "# VO Decomposition plots (bottom row)\n",
    "for i, pc in enumerate([\"PC1\", \"PC2\", \"PC3\"]):\n",
    "    ax = axes[1, i]\n",
    "    \n",
    "    # Plot base model\n",
    "    ax.plot(all_layers, vo_zscores_base[pc][\"self\"], \"o-\", \n",
    "            label=f\"Base: {pc} self-bias\", linewidth=2, alpha=0.7, color=\"C0\")\n",
    "    ax.plot(all_layers, vo_zscores_base[pc][\"opposite\"], \"s--\", \n",
    "            label=f\"Base: {pc} opp-bias\", linewidth=1.5, alpha=0.7, color=\"C0\")\n",
    "    \n",
    "    # Plot instruct model\n",
    "    ax.plot(all_layers, vo_zscores_inst[pc][\"self\"], \"o-\", \n",
    "            label=f\"Instruct: {pc} self-bias\", linewidth=2, alpha=0.7, color=\"C1\")\n",
    "    ax.plot(all_layers, vo_zscores_inst[pc][\"opposite\"], \"s--\", \n",
    "            label=f\"Instruct: {pc} opp-bias\", linewidth=1.5, alpha=0.7, color=\"C1\")\n",
    "    \n",
    "    ax.axhline(0, color=\"gray\", linestyle=\":\", alpha=0.5, label=\"Random baseline\")\n",
    "    ax.set_xlabel(\"Layer\", fontsize=11)\n",
    "    ax.set_ylabel(\"Z-score (vs random)\", fontsize=11)\n",
    "    ax.set_title(f\"VO Decomposition: {pc} Biasing (Base vs Instruct)\", fontsize=12, fontweight=\"bold\")\n",
    "    ax.legend(fontsize=9, loc=\"best\")\n",
    "    ax.grid(True, alpha=0.3)\n",
    "\n",
    "plt.tight_layout()\n",
    "plt.show()\n",
    "\n",
    "print(f\"\\n\ud83d\udcca Key Observations:\")\n",
    "print(f\"  - Blue (C0): Base model attention patterns\")\n",
    "print(f\"  - Orange (C1): Instruct model attention patterns\")\n",
    "print(f\"  - Solid lines: Self-attention/bias (PC\u2192PC)\")\n",
    "print(f\"  - Dashed lines: Opposite-attention/bias (PC\u2192-PC)\")\n",
    "print(f\"  - Each model normalized by its own random baseline\")\n",
    "print(f\"  - Positive z-scores: PC pattern stronger than random for that model\")\n",
    "print(f\"  - Compare blue vs orange to see instruction tuning effects\")"
   ]
  },
  {
   "cell_type": "markdown",
   "metadata": {},
   "source": [
    "## 6. Role and Trait Attention Patterns\n",
    "\n",
    "Analyze how instruction tuning affects attention routing for specific role and trait vectors."
   ]
  },
  {
   "cell_type": "code",
   "execution_count": 15,
   "id": "cell-role-trait-analysis",
   "metadata": {},
   "outputs": [
    {
     "name": "stdout",
     "output_type": "stream",
     "text": [
      "================================================================================\n",
      "ROLE VECTOR ATTENTION PATTERNS (Layer 18)\n",
      "================================================================================\n",
      "\n",
      "role:aberration:\n",
      "  QK top 5: ['Random2', 'Random20', '-PC1', 'Random12', 'Random19']\n",
      "  VO top 5: ['trait:accessible', 'Random29', 'Random4', 'Random21', 'Random5']\n",
      "\n",
      "role:absurdist:\n",
      "  QK top 5: ['Random2', '-PC1', 'Random20', 'Random1', 'Random19']\n",
      "  VO top 5: ['trait:accessible', 'Random4', 'Random21', 'Random5', 'Random20']\n",
      "\n",
      "role:accountant:\n",
      "  QK top 5: ['Random31', 'Random15', 'Random12', 'Random26', 'Random13']\n",
      "  VO top 5: ['role:accountant', 'trait:accessible', 'trait:abstract', 'Random4', 'Random12']\n",
      "\n",
      "================================================================================\n",
      "TRAIT VECTOR ATTENTION PATTERNS (Layer 18)\n",
      "================================================================================\n",
      "\n",
      "trait:absolutist:\n",
      "  QK top 5: ['Random22', 'Random8', 'Random20', 'trait:abstract', 'PC1']\n",
      "  VO top 5: ['PC1', 'trait:absolutist', 'Random4', 'Random6', 'Random29']\n",
      "\n",
      "trait:abstract:\n",
      "  QK top 5: ['Random27', 'Random5', 'Random7', 'Random2', 'PC1']\n",
      "  VO top 5: ['role:actor', 'role:absurdist', 'trait:acerbic', 'role:activist', 'role:aberration']\n",
      "\n",
      "trait:accessible:\n",
      "  QK top 5: ['Random26', 'Random13', 'Random16', 'Random7', 'Random4']\n",
      "  VO top 5: ['role:actor', 'trait:accommodating', 'trait:accessible', 'trait:acerbic', 'role:absurdist']\n"
     ]
    }
   ],
   "source": [
    "# Analyze role and trait attention patterns\n",
    "role_names = [n for n in vector_names if n.startswith(\"role:\")]\n",
    "trait_names = [n for n in vector_names if n.startswith(\"trait:\")]\n",
    "\n",
    "if role_names:\n",
    "    print(\"=\" * 80)\n",
    "    print(\"ROLE VECTOR ATTENTION PATTERNS (Layer 18)\")\n",
    "    print(\"=\" * 80)\n",
    "    \n",
    "    for role_name in role_names[:3]:  # Show first 3 roles\n",
    "        role_qk = analyze_pc_pattern(qk_delta_z, vector_names, role_name, layer_18_idx, top_k=5)\n",
    "        role_vo = analyze_pc_pattern(vo_delta_z, vector_names, role_name, layer_18_idx, top_k=5)\n",
    "        \n",
    "        print(f\"\\n{role_name}:\")\n",
    "        print(f\"  QK top 5: {role_qk['target'].head(5).tolist()}\")\n",
    "        print(f\"  VO top 5: {role_vo['target'].head(5).tolist()}\")\n",
    "\n",
    "if trait_names:\n",
    "    print(\"\\n\" + \"=\" * 80)\n",
    "    print(\"TRAIT VECTOR ATTENTION PATTERNS (Layer 18)\")\n",
    "    print(\"=\" * 80)\n",
    "    \n",
    "    for trait_name in trait_names[:3]:  # Show first 3 traits\n",
    "        trait_qk = analyze_pc_pattern(qk_delta_z, vector_names, trait_name, layer_18_idx, top_k=5)\n",
    "        trait_vo = analyze_pc_pattern(vo_delta_z, vector_names, trait_name, layer_18_idx, top_k=5)\n",
    "        \n",
    "        print(f\"\\n{trait_name}:\")\n",
    "        print(f\"  QK top 5: {trait_qk['target'].head(5).tolist()}\")\n",
    "        print(f\"  VO top 5: {trait_vo['target'].head(5).tolist()}\")"
   ]
  },
  {
   "cell_type": "markdown",
   "metadata": {},
   "source": [
    "## 7. Summary\n",
    "\n",
    "This analysis reveals how instruction tuning modifies attention routing for PC and semantic vectors. Key findings:\n",
    "\n",
    "- **QK Affinity**: Shows which vectors semantically attend to each other\n",
    "- **VO Decomposition**: Reveals semantic content flow through attention\n",
    "- **Layer-specific effects**: Different layers show different attention modification patterns\n",
    "- **PC1 patterns**: PC1 shows distinctive attention changes, particularly at layer 18\n",
    "\n",
    "These complement the MLP analysis by revealing how semantic information is **routed** (attention) vs **transformed** (MLP)."
   ]
  }
 ],
 "metadata": {
  "kernelspec": {
   "display_name": ".venv",
   "language": "python",
   "name": "python3"
  },
  "language_info": {
   "codemirror_mode": {
    "name": "ipython",
    "version": 3
   },
   "file_extension": ".py",
   "mimetype": "text/x-python",
   "name": "python",
   "nbconvert_exporter": "python",
   "pygments_lexer": "ipython3",
   "version": "3.11.13"
  }
 },
 "nbformat": 4,
 "nbformat_minor": 4
}