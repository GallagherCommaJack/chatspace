{
 "cells": [
  {
   "cell_type": "code",
   "execution_count": null,
   "id": "65e0d8a9",
   "metadata": {},
   "outputs": [],
   "source": [
    "from datasets import load_dataset\n",
    "\n",
    "# load a single shard\n",
    "ds = load_dataset(\n",
    "    \"HuggingFaceFW/fineweb\",\n",
    "    split=\"train\",\n",
    "    name=\"sample-10BT\",\n",
    ")"
   ]
  },
  {
   "cell_type": "code",
   "execution_count": null,
   "id": "84245c78",
   "metadata": {},
   "outputs": [],
   "source": [
    "# convert to pandas\n",
    "df = ds.take(10_000).to_pandas()"
   ]
  },
  {
   "cell_type": "code",
   "execution_count": null,
   "id": "2d1e9b6d",
   "metadata": {},
   "outputs": [],
   "source": [
    "from sentence_transformers import SentenceTransformer\n",
    "\n",
    "model = SentenceTransformer(\n",
    "    \"Qwen/Qwen3-Embedding-0.6B\",\n",
    "    model_kwargs={\n",
    "        \"attn_implementation\": \"flash_attention_2\",\n",
    "        \"device_map\": \"cuda\",\n",
    "        \"dtype\": \"bfloat16\",\n",
    "    },\n",
    "    tokenizer_kwargs={\n",
    "        \"padding_side\": \"left\",\n",
    "        \"truncation\": True,\n",
    "        \"padding\": True,\n",
    "        # \"max_length\": 4096,\n",
    "    },\n",
    ").requires_grad_(False)\n"
   ]
  },
  {
   "cell_type": "code",
   "execution_count": null,
   "id": "faf4f909",
   "metadata": {},
   "outputs": [],
   "source": [
    "import torch\n",
    "\n",
    "with torch.inference_mode():\n",
    "    model.encode(\n",
    "        df[\"text\"][:1024],\n",
    "        show_progress_bar=True,\n",
    "        batch_size=32,\n",
    "    )"
   ]
  },
  {
   "cell_type": "code",
   "execution_count": null,
   "id": "b81314f5",
   "metadata": {},
   "outputs": [],
   "source": [
    "torch.cuda.empty_cache()"
   ]
  }
 ],
 "metadata": {
  "kernelspec": {
   "display_name": ".venv",
   "language": "python",
   "name": "python3"
  },
  "language_info": {
   "codemirror_mode": {
    "name": "ipython",
    "version": 3
   },
   "file_extension": ".py",
   "mimetype": "text/x-python",
   "name": "python",
   "nbconvert_exporter": "python",
   "pygments_lexer": "ipython3",
   "version": "3.11.11"
  }
 },
 "nbformat": 4,
 "nbformat_minor": 5
}
