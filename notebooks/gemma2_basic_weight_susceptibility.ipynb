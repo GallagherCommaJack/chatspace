{
 "cells": [
  {
   "cell_type": "markdown",
   "metadata": {},
   "source": [
    "# Gemma2-27B Basic Weight Susceptibility Analysis\n",
    "\n",
    "This notebook analyzes how PC vectors from persona subspace data activate downstream neurons differently between Gemma2-27B base and instruct models.\n",
    "\n",
    "**Key Questions:**\n",
    "1. Do PC vectors (especially PC1) show different activation patterns in base vs instruct models?\n",
    "2. Which layers show the strongest weight differences?\n",
    "3. How do PC vectors compare to random baselines?\n",
    "\n",
    "**Approach:**\n",
    "- Load both base and instruct models\n",
    "- Compute weight differences\n",
    "- Load PC vectors from PCA data\n",
    "- Apply layernorm and project through weight matrices\n",
    "- Compute cosine distances between base and instruct activations"
   ]
  },
  {
   "cell_type": "code",
   "execution_count": null,
   "metadata": {},
   "outputs": [],
   "source": [
    "import torch\n",
    "import numpy as np\n",
    "import pandas as pd\n",
    "import matplotlib.pyplot as plt\n",
    "import seaborn as sns\n",
    "from pathlib import Path\n",
    "from tqdm import tqdm\n",
    "from transformers import AutoModelForCausalLM, AutoConfig\n",
    "\n",
    "# Import from chatspace.analysis\n",
    "from chatspace.analysis import (\n",
    "    load_pca_data,\n    load_individual_role_vectors,\n    load_individual_trait_vectors,\n",
    "    extract_pc_components,\n",
    "    normalize_vector,\n",
    "    gemma2_rmsnorm,\n",
    "    compute_cosine_distances_batch,\n",
    "    compute_weight_statistics\n",
    ")\n",
    "\n",
    "%matplotlib inline\n",
    "sns.set_style('whitegrid')"
   ]
  },
  {
   "cell_type": "markdown",
   "metadata": {},
   "source": [
    "## 1. Load Gemma2-27B Models"
   ]
  },
  {
   "cell_type": "code",
   "execution_count": null,
   "metadata": {},
   "outputs": [],
   "source": [
    "# Model identifiers\n",
    "base_model_id = \"google/gemma-2-27b\"\n",
    "instruct_model_id = \"google/gemma-2-27b-it\"\n",
    "\n",
    "print(f\"Loading models...\")\n",
    "print(f\"  Base: {base_model_id}\")\n",
    "print(f\"  Instruct: {instruct_model_id}\")\n",
    "print(f\"\\nThis will take several minutes...\\n\")\n",
    "\n",
    "# Load config\n",
    "config = AutoConfig.from_pretrained(base_model_id)\n",
    "print(f\"Model config:\")\n",
    "print(f\"  Hidden size: {config.hidden_size}\")\n",
    "print(f\"  Num layers: {config.num_hidden_layers}\")\n",
    "print(f\"  Intermediate size: {config.intermediate_size}\")\n",
    "print(f\"  Attention heads: {config.num_attention_heads}\")\n",
    "print(f\"  KV heads: {config.num_key_value_heads}\")"
   ]
  },
  {
   "cell_type": "code",
   "execution_count": null,
   "metadata": {},
   "outputs": [],
   "source": [
    "# Load base model\n",
    "print(\"Loading base model...\")\n",
    "base_model = AutoModelForCausalLM.from_pretrained(\n",
    "    base_model_id,\n",
    "    torch_dtype=torch.bfloat16,\n",
    "    device_map=\"auto\",\n",
    "    low_cpu_mem_usage=True\n",
    ")\n",
    "base_state_dict = {k: v.cpu() for k, v in base_model.state_dict().items()}\n",
    "print(f\"✓ Base model loaded: {len(base_state_dict)} parameters\")"
   ]
  },
  {
   "cell_type": "code",
   "execution_count": null,
   "metadata": {},
   "outputs": [],
   "source": [
    "# Load instruct model\n",
    "print(\"Loading instruct model...\")\n",
    "instruct_model = AutoModelForCausalLM.from_pretrained(\n",
    "    instruct_model_id,\n",
    "    torch_dtype=torch.bfloat16,\n",
    "    device_map=\"auto\",\n",
    "    low_cpu_mem_usage=True\n",
    ")\n",
    "instruct_state_dict = {k: v.cpu() for k, v in instruct_model.state_dict().items()}\n",
    "print(f\"✓ Instruct model loaded: {len(instruct_state_dict)} parameters\")"
   ]
  },
  {
   "cell_type": "markdown",
   "metadata": {},
   "source": [
    "## 2. Compute Weight Differences"
   ]
  },
  {
   "cell_type": "code",
   "execution_count": null,
   "metadata": {},
   "outputs": [],
   "source": [
    "# Compute weight differences\n",
    "print(\"Computing weight differences...\")\n",
    "weight_diffs = {}\n",
    "for name in base_state_dict.keys():\n",
    "    if name in instruct_state_dict:\n",
    "        diff = instruct_state_dict[name] - base_state_dict[name]\n",
    "        weight_diffs[name] = diff\n",
    "\n",
    "print(f\"\\nComputed {len(weight_diffs)} weight differences\")\n",
    "print(f\"\\nSample statistics:\")\n",
    "for i, (name, diff) in enumerate(list(weight_diffs.items())[:5]):\n",
    "    print(f\"  {name}: shape={diff.shape}, norm={diff.float().norm().item():.4f}\")"
   ]
  },
  {
   "cell_type": "markdown",
   "metadata": {},
   "source": [
    "## 3. Load PC Vectors from Persona Subspace Data"
   ]
  },
  {
   "cell_type": "code",
   "execution_count": null,
   "metadata": {},
   "outputs": [],
   "source": [
    "# Path to persona subspace data\n",
    "persona_data_root = Path(\"/workspace/persona-data\")\n",
    "gemma_model_name = \"gemma-2-27b\"\n",
    "\n",
    "roles_pca_dir = persona_data_root / gemma_model_name / \"roles_240\" / \"pca\"\n",
    "traits_pca_dir = persona_data_root / gemma_model_name / \"traits_240\" / \"pca\"\n",
    "\n",
    "print(f\"Checking for PCA data...\")\n",
    "print(f\"  Roles PCA dir: {roles_pca_dir} (exists: {roles_pca_dir.exists()})\")\n",
    "print(f\"  Traits PCA dir: {traits_pca_dir} (exists: {traits_pca_dir.exists()})\")"
   ]
  },
  {
   "cell_type": "code",
   "execution_count": null,
   "metadata": {},
   "outputs": [],
   "source": [
    "# Load PCA data for roles\n",
    "if roles_pca_dir.exists():\n",
    "    pca_data, all_pca_files = load_pca_data(roles_pca_dir)\n",
    "    print(f\"\\n✓ Loaded PCA data from: {all_pca_files[0].name}\")\n",
    "    print(f\"  Layer: {pca_data.get('layer', 'unknown')}\")\n",
    "    print(f\"  Number of components: {pca_data.get('n_components', 'unknown')}\")\n",
    "    print(f\"  Total PCA files available: {len(all_pca_files)}\")\n",
    "    \n",
    "    # Extract PC components\n",
    "    pcs, variance_explained = extract_pc_components(pca_data, n_components=3)\n",
    "    pc1, pc2, pc3 = pcs[0], pcs[1] if len(pcs) > 1 else None, pcs[2] if len(pcs) > 2 else None\n",
    "    \n",
    "    print(f\"\\nPC components extracted:\")\n",
    "    print(f\"  PC1 shape: {pc1.shape}, norm: {pc1.float().norm().item():.4f}\")\n",
    "    if pc2 is not None:\n",
    "        print(f\"  PC2 shape: {pc2.shape}, norm: {pc2.float().norm().item():.4f}\")\n",
    "    if pc3 is not None:\n",
    "        print(f\"  PC3 shape: {pc3.shape}, norm: {pc3.float().norm().item():.4f}\")\n",
    "    \n",
    "    print(f\"\\nVariance explained by first 5 PCs:\")\n",
    "    for i, var in enumerate(variance_explained[:5]):\n",
    "        print(f\"  PC{i+1}: {var:.4f} ({var*100:.2f}%)\")\n",
    "else:\n",
    "    print(\"\\n⚠️  PCA directory not found!\")"
   ]
  },
  {
   "cell_type": "code",
   "execution_count": null,
   "metadata": {},
   "outputs": [],
   "source": "# Load individual role and trait vectors\npca_layer = pca_data['layer']\nprint(f\"\\nLoading individual role and trait vectors for layer {pca_layer}...\")\n\n# Path to vectors directories\nroles_vectors_dir = persona_data_root / gemma_model_name / \"roles_240\" / \"vectors\"\ntraits_vectors_dir = persona_data_root / gemma_model_name / \"traits_240\" / \"vectors\"\n\n# Load vectors with discriminative defaults:\n# - Roles: pos_3 - default_1 (difference vectors)\n# - Traits: pos_neg_50 (precomputed contrast vectors)\nrole_vectors = load_individual_role_vectors(roles_vectors_dir, pca_layer)\ntrait_vectors = load_individual_trait_vectors(traits_vectors_dir, pca_layer)\n\nprint(f\"  ✓ Loaded {len(role_vectors)} role difference vectors (pos_3 - default_1)\")\nprint(f\"  ✓ Loaded {len(trait_vectors)} trait contrast vectors (pos_neg_50)\")\n\n# Show examples\nif role_vectors:\n    print(f\"\\nExample roles:\")\n    for name in list(role_vectors.keys())[:5]:\n        print(f\"  - {name}\")\n\nif trait_vectors:\n    print(f\"\\nExample traits:\")\n    for name in list(trait_vectors.keys())[:5]:\n        print(f\"  - {name}\")"
  },
  {
   "cell_type": "markdown",
   "metadata": {},
   "source": [
    "## 4. Extract Relevant Weights and Layernorms\n",
    "\n",
    "We'll look at weights from nearby layers (±5 from PCA layer) and extract:\n",
    "- MLP weights: `gate_proj`, `up_proj`\n",
    "- Attention weights: `q_proj`, `k_proj`, `v_proj`\n",
    "- Layernorms: `input_layernorm` (for attention), `pre_feedforward_layernorm` (for MLP)"
   ]
  },
  {
   "cell_type": "code",
   "execution_count": null,
   "metadata": {},
   "outputs": [],
   "source": [
    "# Get the layer corresponding to the PCA data\n",
    "pca_layer = pca_data['layer']\n",
    "print(f\"PCA data is from layer {pca_layer}\")\n",
    "\n",
    "# Find weight matrices from nearby layers\n",
    "relevant_weights = {}\n",
    "target_weight_types = ['up_proj.weight', 'gate_proj.weight', 'q_proj.weight', 'k_proj.weight', 'v_proj.weight']\n",
    "\n",
    "# Look at N layers before and after the PCA layer\n",
    "n_layers_context = 5\n",
    "upstream_layers = range(max(0, pca_layer - n_layers_context), pca_layer)\n",
    "downstream_layers = range(pca_layer + 1, min(pca_layer + n_layers_context + 1, config.num_hidden_layers))\n",
    "all_layers = list(upstream_layers) + list(downstream_layers)\n",
    "\n",
    "print(f\"\\nLooking for weights in nearby layers (±{n_layers_context}):\")\n",
    "print(f\"  Upstream: {list(upstream_layers)}\")\n",
    "print(f\"  Downstream: {list(downstream_layers)}\")\n",
    "\n",
    "for name, diff in weight_diffs.items():\n",
    "    for layer_num in all_layers:\n",
    "        layer_prefix = f\"model.layers.{layer_num}.\"\n",
    "        if name.startswith(layer_prefix):\n",
    "            for weight_type in target_weight_types:\n",
    "                if name.endswith(weight_type):\n",
    "                    relevant_weights[name] = diff\n",
    "                    break\n",
    "\n",
    "print(f\"\\n✓ Found {len(relevant_weights)} relevant weight matrices\")"
   ]
  },
  {
   "cell_type": "code",
   "execution_count": null,
   "metadata": {},
   "outputs": [],
   "source": [
    "# Extract layernorm weights\n",
    "layernorm_weights = {}\n",
    "for layer_num in all_layers:\n",
    "    input_ln_name = f\"model.layers.{layer_num}.input_layernorm.weight\"\n",
    "    pre_ffn_ln_name = f\"model.layers.{layer_num}.pre_feedforward_layernorm.weight\"\n",
    "    \n",
    "    if input_ln_name in base_state_dict:\n",
    "        layernorm_weights[f\"{layer_num}.input_layernorm\"] = {\n",
    "            'base': base_state_dict[input_ln_name],\n",
    "            'instruct': instruct_state_dict[input_ln_name]\n",
    "        }\n",
    "    \n",
    "    if pre_ffn_ln_name in base_state_dict:\n",
    "        layernorm_weights[f\"{layer_num}.pre_feedforward_layernorm\"] = {\n",
    "            'base': base_state_dict[pre_ffn_ln_name],\n",
    "            'instruct': instruct_state_dict[pre_ffn_ln_name]\n",
    "        }\n",
    "\n",
    "print(f\"✓ Extracted {len(layernorm_weights)} layernorm weights\")"
   ]
  },
  {
   "cell_type": "markdown",
   "metadata": {},
   "source": [
    "## 5. Compute Cosine Distances\n",
    "\n",
    "For each weight matrix, we:\n",
    "1. Apply appropriate layernorm to input vectors\n",
    "2. Project through base and instruct weight matrices\n",
    "3. Compute cosine distance between resulting activation patterns"
   ]
  },
  {
   "cell_type": "code",
   "execution_count": null,
   "metadata": {},
   "outputs": [],
   "source": [
    "# Collect vectors to test\n",
    "all_vectors = [pc1]\n",
    "vector_names = ['PC1']\n",
    "\n",
    "if pc2 is not None:\n",
    "    all_vectors.append(pc2)\n",
    "    vector_names.append('PC2')\n",
    "\n",
    "if pc3 is not None:\n",
    "    all_vectors.append(pc3)\n",
    "    vector_names.append('PC3')\n",
    "\n",
    "# Optionally add semantic vectors (sample a few for efficiency)\n",
    "if 'role_vectors' in globals() and len(role_vectors) > 0:\n",
    "    sample_roles = list(role_vectors.items())[:5]  # Sample 5 roles\n",
    "    for name, vec in sample_roles:\n",
    "        all_vectors.append(vec)\n",
    "        vector_names.append(name)\n",
    "\n",
    "if 'trait_vectors' in globals() and len(trait_vectors) > 0:\n",
    "    sample_traits = list(trait_vectors.items())[:5]  # Sample 5 traits\n",
    "    for name, vec in sample_traits:\n",
    "        all_vectors.append(vec)\n",
    "        vector_names.append(name)\n",
    "\n",
    "# Add random vectors\n",
    "torch.manual_seed(42)\n",
    "for i in range(n_random_baseline):\n",
    "    rand_vec = torch.randn(config.hidden_size, dtype=torch.float32)\n",
    "    rand_vec = rand_vec / rand_vec.norm()\n",
    "    all_vectors.append(rand_vec.to(torch.bfloat16))\n",
    "    vector_names.append(f'Random{i+1}')\n",
    "\n",
    "# Stack into batch\n",
    "vectors_batch = torch.stack(all_vectors)\n"
   ]
  },
  {
   "cell_type": "markdown",
   "metadata": {},
   "source": [
    "## 6. Visualize Results"
   ]
  },
  {
   "cell_type": "code",
   "execution_count": null,
   "metadata": {},
   "outputs": [],
   "source": [
    "# Summary statistics\n",
    "print(\"\\n\" + \"=\"*80)\n",
    "print(\"SUMMARY STATISTICS\")\n",
    "print(\"=\"*80)\n",
    "\n",
    "# Compute mean cosine distance by vector type\n",
    "summary = results_df.groupby('vector')['cosine_distance'].agg(['mean', 'std', 'min', 'max'])\n",
    "summary = summary.sort_values('mean', ascending=False)\n",
    "\n",
    "print(\"\\nMean cosine distance by vector:\")\n",
    "print(summary.head(10))\n",
    "\n",
    "# Compare PC1 to random baseline\n",
    "pc1_mean = results_df[results_df['vector'] == 'PC1']['cosine_distance'].mean()\n",
    "random_mean = results_df[results_df['vector'].str.startswith('Random')]['cosine_distance'].mean()\n",
    "ratio = pc1_mean / random_mean\n",
    "\n",
    "print(f\"\\nPC1 vs Random baseline:\")\n",
    "print(f\"  PC1 mean cosine distance: {pc1_mean:.6f}\")\n",
    "print(f\"  Random mean cosine distance: {random_mean:.6f}\")\n",
    "print(f\"  Ratio (PC1 / Random): {ratio:.2f}x\")"
   ]
  },
  {
   "cell_type": "code",
   "execution_count": null,
   "metadata": {},
   "outputs": [],
   "source": [
    "# Plot: Cosine distance by weight type\n",
    "fig, axes = plt.subplots(1, 2, figsize=(14, 5))\n",
    "\n",
    "# By weight type\n",
    "pc_data = results_df[results_df['vector'].isin(['PC1', 'PC2', 'PC3'])]\n",
    "sns.boxplot(data=pc_data, x='weight_type', y='cosine_distance', ax=axes[0])\n",
    "axes[0].set_title('Cosine Distance by Weight Type (PCs only)')\n",
    "axes[0].set_ylabel('Cosine Distance')\n",
    "axes[0].tick_params(axis='x', rotation=45)\n",
    "\n",
    "# By layer\n",
    "pc_data_mean = pc_data.groupby(['layer', 'vector'])['cosine_distance'].mean().reset_index()\n",
    "for pc in ['PC1', 'PC2', 'PC3']:\n",
    "    data = pc_data_mean[pc_data_mean['vector'] == pc]\n",
    "    axes[1].plot(data['layer'], data['cosine_distance'], marker='o', label=pc)\n",
    "axes[1].set_title('Mean Cosine Distance by Layer')\n",
    "axes[1].set_xlabel('Layer')\n",
    "axes[1].set_ylabel('Cosine Distance')\n",
    "axes[1].legend()\n",
    "axes[1].grid(True, alpha=0.3)\n",
    "\n",
    "plt.tight_layout()\n",
    "plt.show()"
   ]
  },
  {
   "cell_type": "markdown",
   "metadata": {},
   "source": [
    "## 7. Key Findings\n",
    "\n",
    "This analysis reveals which layers and weight types show the strongest differences between base and instruct models when processing PC vectors from persona subspace. Higher cosine distances indicate that instruction tuning has significantly altered how that weight matrix responds to the semantic direction represented by the PC."
   ]
  }
 ],
 "metadata": {
  "kernelspec": {
   "display_name": "Python 3",
   "language": "python",
   "name": "python3"
  },
  "language_info": {
   "name": "python",
   "version": "3.10.0"
  }
 },
 "nbformat": 4,
 "nbformat_minor": 4
}