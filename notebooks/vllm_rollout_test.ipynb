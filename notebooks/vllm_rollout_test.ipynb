{
 "cells": [
  {
   "cell_type": "code",
   "execution_count": 1,
   "id": "6f4ede24",
   "metadata": {},
   "outputs": [],
   "source": [
    "import os\n",
    "os.environ[\"VLLM_ALLOW_INSECURE_SERIALIZATION\"] = \"1\"\n",
    "os.environ[\"VLLM_USE_CUDA_GRAPH\"] = \"0\""
   ]
  },
  {
   "cell_type": "code",
   "execution_count": 2,
   "id": "64a8ec06",
   "metadata": {},
   "outputs": [
    {
     "name": "stdout",
     "output_type": "stream",
     "text": [
      "INFO 10-15 20:22:36 [__init__.py:216] Automatically detected platform cuda.\n",
      "torch.Size([5120])\n",
      "tensor(1., dtype=torch.bfloat16)\n"
     ]
    }
   ],
   "source": [
    "import torch                                                                                                                                                                                                                          \n",
    "from pathlib import Path\n",
    "from chatspace.analysis import (\n",
    "    load_individual_trait_vectors,\n",
    ")\n",
    "\n",
    "                                                                                                                                                                                                                                    \n",
    "TARGET_LAYER = 31\n",
    "persona_data_root = Path(\"/workspace/persona-data/qwen-3-32b\")\n",
    "traits_dict = load_individual_trait_vectors(\n",
    "    persona_data_root / \"traits_240\" / \"vectors\",\n",
    "    layer_idx=TARGET_LAYER\n",
    ")\n",
    "vector = traits_dict['acerbic']\n",
    "vector = vector / torch.linalg.norm(vector, dim=-1, keepdim=True)\n",
    "print(vector.shape)\n",
    "print(torch.linalg.norm(vector, dim=-1))\n"
   ]
  },
  {
   "cell_type": "code",
   "execution_count": null,
   "id": "d0d085ff",
   "metadata": {},
   "outputs": [
    {
     "name": "stdout",
     "output_type": "stream",
     "text": [
      "INFO 10-15 20:22:38 [utils.py:233] non-default args: {'max_model_len': 256, 'disable_log_stats': True, 'model': 'Qwen/Qwen3-32B'}\n",
      "INFO 10-15 20:22:38 [model.py:547] Resolved architecture: Qwen3ForCausalLM\n"
     ]
    },
    {
     "name": "stderr",
     "output_type": "stream",
     "text": [
      "`torch_dtype` is deprecated! Use `dtype` instead!\n"
     ]
    },
    {
     "name": "stdout",
     "output_type": "stream",
     "text": [
      "INFO 10-15 20:22:38 [model.py:1510] Using max model len 256\n",
      "INFO 10-15 20:22:38 [scheduler.py:205] Chunked prefill is enabled with max_num_batched_tokens=16384.\n",
      "WARNING 10-15 20:22:38 [serial_utils.py:51] Allowing insecure serialization using pickle due to VLLM_ALLOW_INSECURE_SERIALIZATION=1\n",
      "\u001b[1;36m(EngineCore_DP0 pid=2895489)\u001b[0;0m INFO 10-15 20:22:38 [core.py:644] Waiting for init message from front-end.\n",
      "\u001b[1;36m(EngineCore_DP0 pid=2895489)\u001b[0;0m INFO 10-15 20:22:38 [core.py:77] Initializing a V1 LLM engine (v0.11.0) with config: model='Qwen/Qwen3-32B', speculative_config=None, tokenizer='Qwen/Qwen3-32B', skip_tokenizer_init=False, tokenizer_mode=auto, revision=None, tokenizer_revision=None, trust_remote_code=False, dtype=torch.bfloat16, max_seq_len=256, download_dir=None, load_format=auto, tensor_parallel_size=1, pipeline_parallel_size=1, data_parallel_size=1, disable_custom_all_reduce=False, quantization=None, enforce_eager=False, kv_cache_dtype=auto, device_config=cuda, structured_outputs_config=StructuredOutputsConfig(backend='auto', disable_fallback=False, disable_any_whitespace=False, disable_additional_properties=False, reasoning_parser=''), observability_config=ObservabilityConfig(show_hidden_metrics_for_version=None, otlp_traces_endpoint=None, collect_detailed_traces=None), seed=0, served_model_name=Qwen/Qwen3-32B, enable_prefix_caching=True, chunked_prefill_enabled=True, pooler_config=None, compilation_config={\"level\":3,\"debug_dump_path\":\"\",\"cache_dir\":\"\",\"backend\":\"\",\"custom_ops\":[],\"splitting_ops\":[\"vllm.unified_attention\",\"vllm.unified_attention_with_output\",\"vllm.mamba_mixer2\",\"vllm.mamba_mixer\",\"vllm.short_conv\",\"vllm.linear_attention\",\"vllm.plamo2_mamba_mixer\",\"vllm.gdn_attention\",\"vllm.sparse_attn_indexer\"],\"use_inductor\":true,\"compile_sizes\":[],\"inductor_compile_config\":{\"enable_auto_functionalized_v2\":false},\"inductor_passes\":{},\"cudagraph_mode\":[2,1],\"use_cudagraph\":true,\"cudagraph_num_of_warmups\":1,\"cudagraph_capture_sizes\":[512,504,496,488,480,472,464,456,448,440,432,424,416,408,400,392,384,376,368,360,352,344,336,328,320,312,304,296,288,280,272,264,256,248,240,232,224,216,208,200,192,184,176,168,160,152,144,136,128,120,112,104,96,88,80,72,64,56,48,40,32,24,16,8,4,2,1],\"cudagraph_copy_inputs\":false,\"full_cuda_graph\":false,\"use_inductor_graph_partition\":false,\"pass_config\":{},\"max_capture_size\":512,\"local_cache_dir\":null}\n",
      "\u001b[1;36m(EngineCore_DP0 pid=2895489)\u001b[0;0m INFO 10-15 20:22:40 [parallel_state.py:1208] rank 0 in world size 1 is assigned as DP rank 0, PP rank 0, TP rank 0, EP rank 0\n",
      "\u001b[1;36m(EngineCore_DP0 pid=2895489)\u001b[0;0m WARNING 10-15 20:22:41 [topk_topp_sampler.py:66] FlashInfer is not available. Falling back to the PyTorch-native implementation of top-p & top-k sampling. For the best performance, please install FlashInfer.\n",
      "[Gloo] Rank 0 is connected to 0 peer ranks. Expected number of connected peer ranks is : 0\n",
      "[Gloo] Rank 0 is connected to 0 peer ranks. Expected number of connected peer ranks is : 0\n",
      "[Gloo] Rank 0 is connected to 0 peer ranks. Expected number of connected peer ranks is : 0\n",
      "[Gloo] Rank 0 is connected to 0 peer ranks. Expected number of connected peer ranks is : 0\n",
      "[Gloo] Rank 0 is connected to 0 peer ranks. Expected number of connected peer ranks is : 0\n",
      "[Gloo] Rank 0 is connected to 0 peer ranks. Expected number of connected peer ranks is : 0\n",
      "\u001b[1;36m(EngineCore_DP0 pid=2895489)\u001b[0;0m INFO 10-15 20:22:41 [gpu_model_runner.py:2602] Starting to load model Qwen/Qwen3-32B...\n",
      "\u001b[1;36m(EngineCore_DP0 pid=2895489)\u001b[0;0m INFO 10-15 20:22:41 [gpu_model_runner.py:2634] Loading model from scratch...\n",
      "\u001b[1;36m(EngineCore_DP0 pid=2895489)\u001b[0;0m INFO 10-15 20:22:41 [cuda.py:366] Using Flash Attention backend on V1 engine.\n",
      "\u001b[1;36m(EngineCore_DP0 pid=2895489)\u001b[0;0m INFO 10-15 20:22:41 [weight_utils.py:392] Using model weights format ['*.safetensors']\n"
     ]
    },
    {
     "data": {
      "application/vnd.jupyter.widget-view+json": {
       "model_id": "8d5f142ab1324575b74d9951fb79bc76",
       "version_major": 2,
       "version_minor": 0
      },
      "text/plain": [
       "Loading safetensors checkpoint shards:   0% Completed | 0/17 [00:00<?, ?it/s]\n"
      ]
     },
     "metadata": {},
     "output_type": "display_data"
    },
    {
     "name": "stdout",
     "output_type": "stream",
     "text": [
      "\u001b[1;36m(EngineCore_DP0 pid=2895489)\u001b[0;0m INFO 10-15 20:22:53 [default_loader.py:267] Loading weights took 12.16 seconds\n",
      "\u001b[1;36m(EngineCore_DP0 pid=2895489)\u001b[0;0m INFO 10-15 20:22:54 [gpu_model_runner.py:2653] Model loading took 61.0347 GiB and 12.602225 seconds\n",
      "\u001b[1;36m(EngineCore_DP0 pid=2895489)\u001b[0;0m INFO 10-15 20:23:02 [backends.py:548] Using cache directory: /root/.cache/vllm/torch_compile_cache/5dd787f23b/rank_0_0/backbone for vLLM's torch.compile\n",
      "\u001b[1;36m(EngineCore_DP0 pid=2895489)\u001b[0;0m INFO 10-15 20:23:02 [backends.py:559] Dynamo bytecode transform time: 8.37 s\n",
      "\u001b[1;36m(EngineCore_DP0 pid=2895489)\u001b[0;0m INFO 10-15 20:23:06 [backends.py:164] Directly load the compiled graph(s) for dynamic shape from the cache, took 2.918 s\n",
      "\u001b[1;36m(EngineCore_DP0 pid=2895489)\u001b[0;0m INFO 10-15 20:23:07 [monitor.py:34] torch.compile takes 8.37 s in total\n",
      "\u001b[1;36m(EngineCore_DP0 pid=2895489)\u001b[0;0m INFO 10-15 20:23:09 [gpu_worker.py:298] Available KV cache memory: 58.86 GiB\n",
      "\u001b[1;36m(EngineCore_DP0 pid=2895489)\u001b[0;0m INFO 10-15 20:23:10 [kv_cache_utils.py:1087] GPU KV cache size: 241,088 tokens\n",
      "\u001b[1;36m(EngineCore_DP0 pid=2895489)\u001b[0;0m INFO 10-15 20:23:10 [kv_cache_utils.py:1091] Maximum concurrency for 256 tokens per request: 941.75x\n"
     ]
    },
    {
     "name": "stderr",
     "output_type": "stream",
     "text": [
      "Capturing CUDA graphs (mixed prefill-decode, PIECEWISE): 100%|██████████| 67/67 [00:05<00:00, 11.95it/s]\n",
      "Capturing CUDA graphs (decode, FULL): 100%|██████████| 67/67 [00:04<00:00, 16.47it/s]\n"
     ]
    },
    {
     "name": "stdout",
     "output_type": "stream",
     "text": [
      "\u001b[1;36m(EngineCore_DP0 pid=2895489)\u001b[0;0m INFO 10-15 20:23:20 [gpu_model_runner.py:3480] Graph capturing finished in 10 secs, took 2.41 GiB\n",
      "\u001b[1;36m(EngineCore_DP0 pid=2895489)\u001b[0;0m INFO 10-15 20:23:20 [core.py:210] init engine (profile, create kv cache, warmup model) took 26.05 seconds\n",
      "INFO 10-15 20:23:21 [llm.py:306] Supported_tasks: ('generate',)\n"
     ]
    }
   ],
   "source": [
    "from chatspace.generation import VLLMSteerModel, VLLMSteeringConfig                                                                                                                                                                   \n",
    "# 1. Load the base steering model (match the run’s model/config)                                                                                                                                                                      \n",
    "cfg = VLLMSteeringConfig(                                                                                                                                                                                                             \n",
    "    model_name=\"Qwen/Qwen3-32B\",                                                                                                                                                                                                     \n",
    "    target_layer=TARGET_LAYER,\n",
    "    init_scale=0.0,\n",
    "    tensor_parallel_size=1,\n",
    "    gpu_memory_utilization=0.9,\n",
    "    max_model_len=256,\n",
    ")\n",
    "model = VLLMSteerModel(cfg)\n"
   ]
  },
  {
   "cell_type": "code",
   "execution_count": null,
   "id": "60d934e3",
   "metadata": {},
   "outputs": [
    {
     "name": "stdout",
     "output_type": "stream",
     "text": [
      " Pineapple pizza, often referred to as \"Hawaiian pizza,\" is a culinary topic that sparks strong opinions and debates. Here's a structured explanation of why it's controversial:\n",
      "\n",
      "1. **Cultural and Traditional Preferences**: \n",
      "   - **Traditional Italian Pizza**: In Italy, pizza is typically made with simple, high-quality ingredients like tomatoes, mozzarella, and fresh basil. The addition of pineapple (a tropical fruit) and ham (a cooked meat) is seen as a deviation from these traditional norms. For many Italians and purists, this combination is an affront to the integrity of pizza\n"
     ]
    }
   ],
   "source": [
    "\n",
    "# 3. Apply target strength\n",
    "strength = 200_000\n",
    "model.set_vector(vector * strength)\n",
    "\n",
    "# 4. Run a probe prompt\n",
    "outputs = model.generate(\n",
    "    [\"Explain why pineapple pizza is controversial.\"],\n",
    "    temperature=0.7,\n",
    "    max_tokens=120,\n",
    ")\n",
    "print(outputs[0])"
   ]
  },
  {
   "cell_type": "code",
   "execution_count": 5,
   "id": "88dd026e",
   "metadata": {},
   "outputs": [
    {
     "name": "stdout",
     "output_type": "stream",
     "text": [
      "1\n",
      "abs max: 89600.0\n",
      "L2 norm: 199849.09375\n",
      "Any NaNs? False\n"
     ]
    }
   ],
   "source": [
    "  # Grab the worker copies\n",
    "  worker_vecs = model._fetch_worker_vectors()\n",
    "  print(len(worker_vecs))\n",
    "\n",
    "  # Inspect stats from rank 0\n",
    "  w0 = worker_vecs[0].to(torch.float32)\n",
    "  print(\"abs max:\", w0.abs().max().item())\n",
    "  print(\"L2 norm:\", torch.linalg.norm(w0).item())\n",
    "  print(\"Any NaNs?\", torch.isnan(w0).any().item())"
   ]
  },
  {
   "cell_type": "code",
   "execution_count": null,
   "id": "a8609664",
   "metadata": {},
   "outputs": [],
   "source": []
  }
 ],
 "metadata": {
  "kernelspec": {
   "display_name": ".venv",
   "language": "python",
   "name": "python3"
  },
  "language_info": {
   "codemirror_mode": {
    "name": "ipython",
    "version": 3
   },
   "file_extension": ".py",
   "mimetype": "text/x-python",
   "name": "python",
   "nbconvert_exporter": "python",
   "pygments_lexer": "ipython3",
   "version": "3.11.13"
  }
 },
 "nbformat": 4,
 "nbformat_minor": 5
}
