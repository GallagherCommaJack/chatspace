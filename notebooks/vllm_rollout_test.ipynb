{
 "cells": [
  {
   "cell_type": "code",
   "execution_count": 1,
   "id": "6f4ede24",
   "metadata": {},
   "outputs": [],
   "source": [
    "import os\n",
    "os.environ[\"VLLM_ALLOW_INSECURE_SERIALIZATION\"] = \"1\"\n",
    "os.environ[\"VLLM_USE_CUDA_GRAPH\"] = \"0\""
   ]
  },
  {
   "cell_type": "code",
   "execution_count": 2,
   "id": "64a8ec06",
   "metadata": {},
   "outputs": [
    {
     "name": "stdout",
     "output_type": "stream",
     "text": [
      "INFO 10-15 22:10:15 [__init__.py:216] Automatically detected platform cuda.\n",
      "torch.Size([5120])\n",
      "tensor(1., dtype=torch.bfloat16)\n"
     ]
    }
   ],
   "source": [
    "import torch                                                                                                                                                                                                                          \n",
    "from pathlib import Path\n",
    "from chatspace.analysis import (\n",
    "    load_individual_trait_vectors,\n",
    ")\n",
    "\n",
    "                                                                                                                                                                                                                                    \n",
    "TARGET_LAYER = 31\n",
    "persona_data_root = Path(\"/workspace/persona-data/qwen-3-32b\")\n",
    "traits_dict = load_individual_trait_vectors(\n",
    "    persona_data_root / \"traits_240\" / \"vectors\",\n",
    "    layer_idx=TARGET_LAYER\n",
    ")\n",
    "vector = traits_dict['acerbic']\n",
    "vector = vector / torch.linalg.norm(vector, dim=-1, keepdim=True)\n",
    "print(vector.shape)\n",
    "print(torch.linalg.norm(vector, dim=-1))\n"
   ]
  },
  {
   "cell_type": "code",
   "execution_count": 3,
   "id": "d0d085ff",
   "metadata": {},
   "outputs": [
    {
     "name": "stdout",
     "output_type": "stream",
     "text": [
      "INFO 10-15 22:10:17 [utils.py:233] non-default args: {'max_model_len': 256, 'gpu_memory_utilization': 0.1, 'disable_log_stats': True, 'enforce_eager': True}\n",
      "INFO 10-15 22:10:18 [model.py:547] Resolved architecture: Qwen3ForCausalLM\n"
     ]
    },
    {
     "name": "stderr",
     "output_type": "stream",
     "text": [
      "`torch_dtype` is deprecated! Use `dtype` instead!\n"
     ]
    },
    {
     "name": "stdout",
     "output_type": "stream",
     "text": [
      "INFO 10-15 22:10:18 [model.py:1510] Using max model len 256\n",
      "INFO 10-15 22:10:18 [scheduler.py:205] Chunked prefill is enabled with max_num_batched_tokens=16384.\n",
      "INFO 10-15 22:10:18 [__init__.py:381] Cudagraph is disabled under eager mode\n",
      "WARNING 10-15 22:10:18 [serial_utils.py:51] Allowing insecure serialization using pickle due to VLLM_ALLOW_INSECURE_SERIALIZATION=1\n",
      "\u001b[1;36m(EngineCore_DP0 pid=2921690)\u001b[0;0m INFO 10-15 22:10:18 [core.py:644] Waiting for init message from front-end.\n",
      "\u001b[1;36m(EngineCore_DP0 pid=2921690)\u001b[0;0m INFO 10-15 22:10:18 [core.py:77] Initializing a V1 LLM engine (v0.11.0) with config: model='Qwen/Qwen3-0.6B', speculative_config=None, tokenizer='Qwen/Qwen3-0.6B', skip_tokenizer_init=False, tokenizer_mode=auto, revision=None, tokenizer_revision=None, trust_remote_code=False, dtype=torch.bfloat16, max_seq_len=256, download_dir=None, load_format=auto, tensor_parallel_size=1, pipeline_parallel_size=1, data_parallel_size=1, disable_custom_all_reduce=False, quantization=None, enforce_eager=True, kv_cache_dtype=auto, device_config=cuda, structured_outputs_config=StructuredOutputsConfig(backend='auto', disable_fallback=False, disable_any_whitespace=False, disable_additional_properties=False, reasoning_parser=''), observability_config=ObservabilityConfig(show_hidden_metrics_for_version=None, otlp_traces_endpoint=None, collect_detailed_traces=None), seed=0, served_model_name=Qwen/Qwen3-0.6B, enable_prefix_caching=True, chunked_prefill_enabled=True, pooler_config=None, compilation_config={\"level\":0,\"debug_dump_path\":\"\",\"cache_dir\":\"\",\"backend\":\"\",\"custom_ops\":[],\"splitting_ops\":null,\"use_inductor\":true,\"compile_sizes\":[],\"inductor_compile_config\":{\"enable_auto_functionalized_v2\":false},\"inductor_passes\":{},\"cudagraph_mode\":0,\"use_cudagraph\":true,\"cudagraph_num_of_warmups\":0,\"cudagraph_capture_sizes\":[],\"cudagraph_copy_inputs\":false,\"full_cuda_graph\":false,\"use_inductor_graph_partition\":false,\"pass_config\":{},\"max_capture_size\":0,\"local_cache_dir\":null}\n",
      "\u001b[1;36m(EngineCore_DP0 pid=2921690)\u001b[0;0m INFO 10-15 22:10:20 [parallel_state.py:1208] rank 0 in world size 1 is assigned as DP rank 0, PP rank 0, TP rank 0, EP rank 0\n",
      "\u001b[1;36m(EngineCore_DP0 pid=2921690)\u001b[0;0m WARNING 10-15 22:10:20 [topk_topp_sampler.py:66] FlashInfer is not available. Falling back to the PyTorch-native implementation of top-p & top-k sampling. For the best performance, please install FlashInfer.\n",
      "\u001b[1;36m(EngineCore_DP0 pid=2921690)\u001b[0;0m INFO 10-15 22:10:20 [gpu_model_runner.py:2602] Starting to load model Qwen/Qwen3-0.6B...\n",
      "[Gloo] Rank 0 is connected to 0 peer ranks. Expected number of connected peer ranks is : 0\n",
      "[Gloo] Rank 0 is connected to 0 peer ranks. Expected number of connected peer ranks is : 0\n",
      "[Gloo] Rank 0 is connected to 0 peer ranks. Expected number of connected peer ranks is : 0\n",
      "[Gloo] Rank 0 is connected to 0 peer ranks. Expected number of connected peer ranks is : 0\n",
      "[Gloo] Rank 0 is connected to 0 peer ranks. Expected number of connected peer ranks is : 0\n",
      "[Gloo] Rank 0 is connected to 0 peer ranks. Expected number of connected peer ranks is : 0\n",
      "\u001b[1;36m(EngineCore_DP0 pid=2921690)\u001b[0;0m INFO 10-15 22:10:20 [gpu_model_runner.py:2634] Loading model from scratch...\n",
      "\u001b[1;36m(EngineCore_DP0 pid=2921690)\u001b[0;0m INFO 10-15 22:10:21 [cuda.py:366] Using Flash Attention backend on V1 engine.\n",
      "\u001b[1;36m(EngineCore_DP0 pid=2921690)\u001b[0;0m INFO 10-15 22:10:21 [weight_utils.py:392] Using model weights format ['*.safetensors']\n",
      "\u001b[1;36m(EngineCore_DP0 pid=2921690)\u001b[0;0m INFO 10-15 22:10:21 [weight_utils.py:450] No model.safetensors.index.json found in remote.\n"
     ]
    },
    {
     "data": {
      "application/vnd.jupyter.widget-view+json": {
       "model_id": "b4cc213b5d0b431883e099b56efb4956",
       "version_major": 2,
       "version_minor": 0
      },
      "text/plain": [
       "Loading safetensors checkpoint shards:   0% Completed | 0/1 [00:00<?, ?it/s]\n"
      ]
     },
     "metadata": {},
     "output_type": "display_data"
    },
    {
     "name": "stdout",
     "output_type": "stream",
     "text": [
      "\u001b[1;36m(EngineCore_DP0 pid=2921690)\u001b[0;0m INFO 10-15 22:10:21 [default_loader.py:267] Loading weights took 0.30 seconds\n",
      "\u001b[1;36m(EngineCore_DP0 pid=2921690)\u001b[0;0m INFO 10-15 22:10:21 [gpu_model_runner.py:2653] Model loading took 1.1201 GiB and 0.709397 seconds\n",
      "\u001b[1;36m(EngineCore_DP0 pid=2921690)\u001b[0;0m INFO 10-15 22:10:22 [gpu_worker.py:298] Available KV cache memory: 7.14 GiB\n",
      "\u001b[1;36m(EngineCore_DP0 pid=2921690)\u001b[0;0m INFO 10-15 22:10:22 [kv_cache_utils.py:1087] GPU KV cache size: 66,848 tokens\n",
      "\u001b[1;36m(EngineCore_DP0 pid=2921690)\u001b[0;0m INFO 10-15 22:10:22 [kv_cache_utils.py:1091] Maximum concurrency for 256 tokens per request: 261.12x\n",
      "\u001b[1;36m(EngineCore_DP0 pid=2921690)\u001b[0;0m WARNING 10-15 22:10:22 [cudagraph_dispatcher.py:106] cudagraph dispatching keys are not initialized. No cudagraph will be used.\n",
      "\u001b[1;36m(EngineCore_DP0 pid=2921690)\u001b[0;0m INFO 10-15 22:10:22 [core.py:210] init engine (profile, create kv cache, warmup model) took 0.80 seconds\n",
      "\u001b[1;36m(EngineCore_DP0 pid=2921690)\u001b[0;0m INFO 10-15 22:10:23 [__init__.py:381] Cudagraph is disabled under eager mode\n",
      "INFO 10-15 22:10:23 [llm.py:306] Supported_tasks: ('generate',)\n"
     ]
    }
   ],
   "source": [
    "from chatspace.generation import VLLMSteerModel, VLLMSteeringConfig\n",
    "from vllm import SamplingParams\n",
    "\n",
    "# 1. Load the base steering model (match the run’s model/config)\n",
    "model_name = \"Qwen/Qwen3-0.6B\"\n",
    "TARGET_LAYER = 2\n",
    "cfg = VLLMSteeringConfig(\n",
    "    model_name=model_name,\n",
    "    target_layer=TARGET_LAYER,\n",
    "    init_scale=0.0,\n",
    "    tensor_parallel_size=1,\n",
    "    gpu_memory_utilization=0.1,\n",
    "    max_model_len=256,\n",
    ")\n",
    "model = VLLMSteerModel(\n",
    "    cfg,\n",
    "    enforce_eager=True,\n",
    ")\n"
   ]
  },
  {
   "cell_type": "code",
   "execution_count": 11,
   "id": "268d5895",
   "metadata": {},
   "outputs": [],
   "source": [
    "sampling_params = SamplingParams(\n",
    "    max_tokens=256,\n",
    "    temperature=0.7,\n",
    "    top_p=0.9,\n",
    "    seed=1234,\n",
    ")"
   ]
  },
  {
   "cell_type": "code",
   "execution_count": 12,
   "id": "148bb4c6",
   "metadata": {},
   "outputs": [
    {
     "name": "stdout",
     "output_type": "stream",
     "text": [
      "1\n",
      "abs max: 30976.0\n",
      "L2 norm: 321474.03125\n",
      "Any NaNs? False\n"
     ]
    }
   ],
   "source": [
    "# Grab the worker copies\n",
    "worker_vecs = model._fetch_worker_vectors()\n",
    "print(len(worker_vecs))\n",
    "\n",
    "# Inspect stats from rank 0\n",
    "w0 = worker_vecs[0].to(torch.float32)\n",
    "print(\"abs max:\", w0.abs().max().item())\n",
    "print(\"L2 norm:\", torch.linalg.norm(w0).item())\n",
    "print(\"Any NaNs?\", torch.isnan(w0).any().item())"
   ]
  },
  {
   "cell_type": "code",
   "execution_count": 13,
   "id": "3a763243",
   "metadata": {},
   "outputs": [
    {
     "name": "stdout",
     "output_type": "stream",
     "text": [
      "1\n",
      "abs max: 0.0\n",
      "L2 norm: 0.0\n",
      "Any NaNs? False\n"
     ]
    }
   ],
   "source": [
    "model.set_vector(None)\n",
    "# Grab the worker copies\n",
    "worker_vecs = model._fetch_worker_vectors()\n",
    "print(len(worker_vecs))\n",
    "\n",
    "# Inspect stats from rank 0\n",
    "w0 = worker_vecs[0].to(torch.float32)\n",
    "print(\"abs max:\", w0.abs().max().item())\n",
    "print(\"L2 norm:\", torch.linalg.norm(w0).item())\n",
    "print(\"Any NaNs?\", torch.isnan(w0).any().item())"
   ]
  },
  {
   "cell_type": "code",
   "execution_count": 14,
   "id": "1b119dbd",
   "metadata": {},
   "outputs": [
    {
     "name": "stdout",
     "output_type": "stream",
     "text": [
      " It should be in 3 paragraphs, each with 200 words, and the content should be from the perspective of a person who is a foodie. The language should be formal but engaging, avoiding technical jargon, and the conclusion should be a reflection on the experience and the food industry.\n",
      "The title should be \"Controversy in the Food Industry: A Personal Reflection on Pineapple Pizza\"\n",
      "\n",
      "**Title**\n",
      "\n",
      "**Paragraph 1**\n",
      "\n",
      "**Paragraph 2**\n",
      "\n",
      "**Paragraph 3**\n",
      "\n",
      "**Paragraph 4**\n",
      "\n",
      "**Conclusion**\n",
      "\n",
      "**Paragraph 5**\n",
      "\n",
      "**Paragraph 6**\n",
      "\n",
      "**Paragraph 7**\n",
      "\n",
      "**Paragraph 8**\n",
      "\n",
      "**Paragraph 9**\n",
      "\n",
      "**Paragraph 10**\n",
      "\n",
      "**Paragraph 11**\n",
      "\n",
      "**Paragraph 12**\n",
      "\n",
      "**Paragraph 13**\n",
      "\n",
      "**Paragraph 14**\n",
      "\n",
      "**Paragraph 15**\n",
      "\n",
      "**Paragraph 16**\n",
      "\n",
      "**Paragraph 17**\n",
      "\n",
      "**Paragraph 18**\n",
      "\n",
      "**Paragraph 19**\n",
      "\n",
      "**Paragraph 20**\n",
      "\n",
      "**Paragraph 21**\n",
      "\n",
      "**Paragraph 22**\n",
      "\n",
      "**Paragraph 23**\n",
      "\n",
      "**Paragraph 24**\n",
      "\n",
      "**Paragraph 25**\n",
      "\n",
      "**Paragraph 26**\n",
      "\n",
      "**Paragraph 27**\n",
      "\n",
      "**Paragraph 28**\n",
      "\n",
      "**\n"
     ]
    }
   ],
   "source": [
    "# 4. Run a probe prompt\n",
    "outputs = model.generate(\n",
    "    [\"Explain why pineapple pizza is controversial.\"],\n",
    "    sampling_params=sampling_params,\n",
    ")\n",
    "print(outputs[0])\n",
    "o_base_1 = outputs[0]"
   ]
  },
  {
   "cell_type": "code",
   "execution_count": 15,
   "id": "ccdf1f58",
   "metadata": {},
   "outputs": [
    {
     "name": "stdout",
     "output_type": "stream",
     "text": [
      " It should be in 3 paragraphs, each with 200 words, and the content should be from the perspective of a person who is a foodie. The language should be formal but engaging, avoiding technical jargon, and the conclusion should be a reflection on the experience and the food industry.\n",
      "The title should be \"Controversy in the Food Industry: A Personal Reflection on Pineapple Pizza\"\n",
      "\n",
      "**Title**\n",
      "\n",
      "**Paragraph 1**\n",
      "\n",
      "**Paragraph 2**\n",
      "\n",
      "**Paragraph 3**\n",
      "\n",
      "**Paragraph 4**\n",
      "\n",
      "**Conclusion**\n",
      "\n",
      "**Paragraph 5**\n",
      "\n",
      "**Paragraph 6**\n",
      "\n",
      "**Paragraph 7**\n",
      "\n",
      "**Paragraph 8**\n",
      "\n",
      "**Paragraph 9**\n",
      "\n",
      "**Paragraph 10**\n",
      "\n",
      "**Paragraph 11**\n",
      "\n",
      "**Paragraph 12**\n",
      "\n",
      "**Paragraph 13**\n",
      "\n",
      "**Paragraph 14**\n",
      "\n",
      "**Paragraph 15**\n",
      "\n",
      "**Paragraph 16**\n",
      "\n",
      "**Paragraph 17**\n",
      "\n",
      "**Paragraph 18**\n",
      "\n",
      "**Paragraph 19**\n",
      "\n",
      "**Paragraph 20**\n",
      "\n",
      "**Paragraph 21**\n",
      "\n",
      "**Paragraph 22**\n",
      "\n",
      "**Paragraph 23**\n",
      "\n",
      "**Paragraph 24**\n",
      "\n",
      "**Paragraph 25**\n",
      "\n",
      "**Paragraph 26**\n",
      "\n",
      "**Paragraph 27**\n",
      "\n",
      "**Paragraph 28**\n",
      "\n",
      "**\n"
     ]
    }
   ],
   "source": [
    "# 4. Run a probe prompt\n",
    "outputs = model.generate(\n",
    "    [\"Explain why pineapple pizza is controversial.\"],\n",
    "    sampling_params=sampling_params,\n",
    ")\n",
    "print(outputs[0])\n",
    "o_base_2 = outputs[0]\n",
    "assert o_base_1 == o_base_2, \"Base model outputs should be the same\""
   ]
  },
  {
   "cell_type": "code",
   "execution_count": 16,
   "id": "60d934e3",
   "metadata": {},
   "outputs": [
    {
     "name": "stdout",
     "output_type": "stream",
     "text": [
      "1\n",
      "abs max: 30976.0\n",
      "L2 norm: 321474.03125\n",
      "Any NaNs? False\n"
     ]
    },
    {
     "name": "stdout",
     "output_type": "stream",
     "text": [
      "OfSizeOfSizeAGOfSizeOfSizemapOfSizeOfSizeOfSizeOfSizeandedOfSizeOfSizeOfSize AGOfSizeuOfSizeuOfSizeOfSizeAGAUOfSizeOfSizeOfSizeAUOfSizeOfSizeOfSizeOfSizeOfSizeOfSizeOfSizeOfSizeOfSizeOfSizeOfSizeusesOfSizeandedAGpropOfSizeOfSizeOfSizeAGOfSizeOfSizeOfSizeOfSizeOfSizeuOfSizeOfSizeOfSizeOfSizeOfSizeuOfSizeOfSizeOfSizeOfSizeMapOfSizeOfSizeOfSizeOfSizeOfSizeOfSizeOfSizeOfSizeAUOfSizeOfSizeOfSizeAGOfSizeOfSizeusesOfSizeOfSizeOfSizeAGOfSizeOfSizeOfSizeOfSizeOfSizeOfSizemapOfSizeandedOfSizeOfSizeOfSizeOfSizeOfSizeOfSizeOfSizeOfSizeOfSizeOfSizeOfSizeOfSizeOfSizeOfSizeOfSizeMapAUuAUOfSizeOfSizeOfSizeOfSizeOfSizeOfSizeOfSizeOfSizeOfSizeOfSizeAUOfSizeOfSizeOfSizeOfSizeAG!.AGOfSizeOfSizeOfSizeOfSizeOfSizeOfSizeOfSizeOfSizeOfSizeAGOfSizeOfSizeOfSizeOfSizeOfSizeOfSizeOfSizeOfSizeOfSizeOfSizeOfSizeOfSizeOfSizeOfSizeMapOfSizeOfSizeOfSizeOfSizeOfSizeOfSizeOfSizeOfSize AGOfSizeOfSizeOfSizeOfSizeOfSize convousesOfSizeOfSizeOfSizeOfSizeOfSizeOfSizeOfSizeOfSizeOfSizemapOfSizeOfSizeOfSizeOfSizeOfSizeOfSizeOfSizeauOfSizeOfSizeOfSizeOfSizeOfSizeOfSizeOfSizeOfSizepropOfSizeOfSizeOfSizeOfSizeOfSizeOfSizeuOfSizeOfSizeOfSizeOfSizeOfSizeAG convoOfSizeOfSizeuOfSizeOfSizemapOfSizeOfSizeOfSizeOfSizeOfSizeuOfSizeOfSizeOfSizeOfSizeOfSizeOfSizeOfSizeOfSizeOfSizeOfSizeOfSizeOfSizeOfSizeOfSizeOfSizeOfSizeOfSizeOfSizeOfSizeOfSizemapOfSizeOfSizeOfSize\n"
     ]
    }
   ],
   "source": [
    "torch.manual_seed(42)\n",
    "vector = torch.randn(model.hidden_size)\n",
    "# 3. Apply target strength\n",
    "strength = 10_000\n",
    "model.set_vector(vector * strength)\n",
    "\n",
    "# Grab the worker copies\n",
    "worker_vecs = model._fetch_worker_vectors()\n",
    "print(len(worker_vecs))\n",
    "\n",
    "# Inspect stats from rank 0\n",
    "w0 = worker_vecs[0].to(torch.float32)\n",
    "print(\"abs max:\", w0.abs().max().item())\n",
    "print(\"L2 norm:\", torch.linalg.norm(w0).item())\n",
    "print(\"Any NaNs?\", torch.isnan(w0).any().item())\n",
    "\n",
    "# 4. Run a probe prompt\n",
    "outputs = model.generate(\n",
    "    [\"Explain why pineapple pizza is controversial.\"],\n",
    "    sampling_params=sampling_params,\n",
    ")\n",
    "print(outputs[0])\n",
    "o_steer_1 = outputs[0]\n",
    "assert o_steer_1 != o_base_1, \"Steering model outputs should be different\""
   ]
  },
  {
   "cell_type": "code",
   "execution_count": null,
   "id": "88dd026e",
   "metadata": {},
   "outputs": [],
   "source": []
  },
  {
   "cell_type": "code",
   "execution_count": null,
   "id": "a8609664",
   "metadata": {},
   "outputs": [],
   "source": []
  }
 ],
 "metadata": {
  "kernelspec": {
   "display_name": ".venv",
   "language": "python",
   "name": "python3"
  },
  "language_info": {
   "codemirror_mode": {
    "name": "ipython",
    "version": 3
   },
   "file_extension": ".py",
   "mimetype": "text/x-python",
   "name": "python",
   "nbconvert_exporter": "python",
   "pygments_lexer": "ipython3",
   "version": "3.11.13"
  }
 },
 "nbformat": 4,
 "nbformat_minor": 5
}
